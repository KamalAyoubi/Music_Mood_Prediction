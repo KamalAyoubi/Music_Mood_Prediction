{
 "cells": [
  {
   "cell_type": "code",
   "execution_count": null,
   "metadata": {},
   "outputs": [],
   "source": []
  },
  {
   "cell_type": "markdown",
   "metadata": {},
   "source": [
    "# <center> Predict the Mood of Music Sounds using Neural Networks "
   ]
  },
  {
   "cell_type": "code",
   "execution_count": 21,
   "metadata": {},
   "outputs": [],
   "source": [
    "import matplotlib.pyplot as plt\n",
    "import pandas as pd\n",
    "import numpy as np\n"
   ]
  },
  {
   "cell_type": "code",
   "execution_count": 20,
   "metadata": {},
   "outputs": [
    {
     "name": "stdout",
     "output_type": "stream",
     "text": [
      "------------------------------------ \n",
      " ======>> Data shape is :  (686, 19)\n",
      "------------------------------------ \n",
      "                                          name                        album  \\\n",
      "0                                         1999                         1999   \n",
      "1                                           23                           23   \n",
      "2                                     9 Crimes                            9   \n",
      "3                               99 Luftballons               99 Luftballons   \n",
      "4  A Boy Brushed Red Living In Black And White  They're Only Chasing Safety   \n",
      "\n",
      "           artist                      id release_date  popularity  length  \\\n",
      "0          Prince  2H7PHVdQ3mXqEHXcvclTB0   1982-10-27          68  379266   \n",
      "1  Blonde Redhead  4HIwL9ii9CcXpTOTzMq0MP   2007-04-16          43  318800   \n",
      "2     Damien Rice  5GZEeowhvSieFDiR8fQ2im   2006-11-06          60  217946   \n",
      "3            Nena  6HA97v4wEGQ5TUClRM0XLc   1984-08-21           2  233000   \n",
      "4       Underoath  47IWLfIKOKhFnz1FUEUIkE   2004-01-01          60  268000   \n",
      "\n",
      "   danceability  acousticness  energy  instrumentalness  liveness  valence  \\\n",
      "0         0.866       0.13700   0.730          0.000000    0.0843    0.625   \n",
      "1         0.381       0.01890   0.832          0.196000    0.1530    0.166   \n",
      "2         0.346       0.91300   0.139          0.000077    0.0934    0.116   \n",
      "3         0.466       0.08900   0.438          0.000006    0.1130    0.587   \n",
      "4         0.419       0.00171   0.932          0.000000    0.1370    0.445   \n",
      "\n",
      "   loudness  speechiness    tempo  key  time_signature       mood  \n",
      "0    -8.201       0.0767  118.523    5               4      Happy  \n",
      "1    -5.069       0.0492  120.255    8               4        Sad  \n",
      "2   -15.326       0.0321  136.168    0               4        Sad  \n",
      "3   -12.858       0.0608  193.100    4               4      Happy  \n",
      "4    -3.604       0.1060  169.881    1               4  Energetic  \n"
     ]
    }
   ],
   "source": [
    "# Import data\n",
    "data = pd.read_csv(\"Data/music_moods_dataset.csv\")\n",
    "print( '------------------------------------ ')\n",
    "print( ' ======>> Data shape is : ', data.shape)\n",
    "print( '------------------------------------ ')\n",
    "\n",
    "print(data.head() )\n"
   ]
  },
  {
   "cell_type": "code",
   "execution_count": 12,
   "metadata": {},
   "outputs": [
    {
     "data": {
      "text/plain": [
       "Index(['length', 'danceability', 'acousticness', 'energy', 'instrumentalness',\n",
       "       'liveness', 'valence', 'loudness', 'speechiness', 'tempo'],\n",
       "      dtype='object')"
      ]
     },
     "execution_count": 12,
     "metadata": {},
     "output_type": "execute_result"
    }
   ],
   "source": []
  },
  {
   "cell_type": "code",
   "execution_count": null,
   "metadata": {},
   "outputs": [],
   "source": []
  }
 ],
 "metadata": {
  "interpreter": {
   "hash": "e1a5cf3782c54aacd863643b517f4f98e7f085a2e52fbc040d346b9d2035587c"
  },
  "kernelspec": {
   "display_name": "Python 3.8.5 64-bit ('base': conda)",
   "language": "python",
   "name": "python3"
  },
  "language_info": {
   "codemirror_mode": {
    "name": "ipython",
    "version": 3
   },
   "file_extension": ".py",
   "mimetype": "text/x-python",
   "name": "python",
   "nbconvert_exporter": "python",
   "pygments_lexer": "ipython3",
   "version": "3.8.5"
  },
  "orig_nbformat": 4
 },
 "nbformat": 4,
 "nbformat_minor": 2
}
